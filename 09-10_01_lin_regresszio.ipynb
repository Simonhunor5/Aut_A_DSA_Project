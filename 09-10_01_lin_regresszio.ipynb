{
  "nbformat": 4,
  "nbformat_minor": 0,
  "metadata": {
    "hide_input": false,
    "kernelspec": {
      "display_name": "Python 3",
      "language": "python",
      "name": "python3"
    },
    "language_info": {
      "codemirror_mode": {
        "name": "ipython",
        "version": 3
      },
      "file_extension": ".py",
      "mimetype": "text/x-python",
      "name": "python",
      "nbconvert_exporter": "python",
      "pygments_lexer": "ipython3",
      "version": "3.7.1"
    },
    "colab": {
      "name": "linreg.ipynb",
      "provenance": []
    }
  },
  "cells": [
    {
      "cell_type": "markdown",
      "metadata": {
        "id": "uXnfck1X5fzI"
      },
      "source": [
        "# Lineáris regresszió Python-ban\n",
        "\n",
        "\n",
        "\n",
        "----\n"
      ]
    },
    {
      "cell_type": "markdown",
      "metadata": {
        "id": "pfChBnUs5fzJ"
      },
      "source": [
        "Regressziószámítással során véletlen változók között fennálló kapcsolatot modellezzük. A [lineáris regresszió](https://hu.wikipedia.org/wiki/Line%C3%A1ris_regresszi%C3%B) esetében feltételezzük, hogy a magyarázó- ($X$) és a magyarázott ($Y$) változók közti összefüggés lineáris:\n",
        "$$y_i = c_0 + c_1x_{i1} + c_2x_{i2} + \\dots + c_kx_{ik} + \\epsilon_i$$\n",
        "\n",
        "ahol $\\epsilon_i$ egy meg nem figyelt véletlen változó, amely \"zajjal\" perturbálja a magyarázó és a magyarázott változók közötti lineáris kapcsolatot.\n",
        "\n",
        "\n",
        "A lineáris regresszió becslése során, valamilyen optimumkeresési eljárás segítségével (pl. a [legkisebb négyzetek módszere](https://hu.wikipedia.org/wiki/Legkisebb_n%C3%A9gyzetek_m%C3%B3dszere)), megkeressük a $c_i$ paramétervektorokat, melyekkel minimalizálják a hibát a rendelkezésre álló mintákhoz képest.\n",
        "\n",
        "![](https://upload.wikimedia.org/wikipedia/commons/thumb/5/53/Linear_least_squares_example2.png/952px-Linear_least_squares_example2.png)\n",
        "\n",
        "Ábra 1. A lineáris regresszió alkalmazásánál, feltételezzük, hogy a rendelkezésre álló minták, megfigyelések (piros pontok), egy függő ($y$) és egy független változó ($x$) közötti lineáris viszonytól (kék vonal) való véletlenszerű kisebb eltérésekből (zöld vonalak) származnak. [Kép forrása](https://upload.wikimedia.org/wikipedia/commons/thumb/5/53/Linear_least_squares_example2.png/952px-Linear_least_squares_example2.png)\n",
        "\n",
        "Python-ban, a lineáris regresszió számítására a `scikit-learn` csomag [`sklearn.linear_model.LinearRegression`](https://scikit-learn.org/stable/modules/generated/sklearn.linear_model.LinearRegression.html) modelljét [alkalmazhatjuk](https://realpython.com/linear-regression-in-python/).\n",
        "\n",
        "## Példa\n",
        "\n",
        " "
      ]
    },
    {
      "cell_type": "code",
      "metadata": {
        "colab": {
          "base_uri": "https://localhost:8080/",
          "height": 493
        },
        "id": "Xttz99zqru8z",
        "outputId": "394cfd8d-8889-4496-b9de-5e771a9cc8f9"
      },
      "source": [
        "print(__doc__)\n",
        "\n",
        "\n",
        "# Code source: Jaques Grobler\n",
        "# License: BSD 3 clause\n",
        "\n",
        "\n",
        "import matplotlib.pyplot as plt\n",
        "import numpy as np\n",
        "from sklearn import datasets, linear_model\n",
        "from sklearn.metrics import mean_squared_error, r2_score\n",
        "\n",
        "# Load the diabetes dataset\n",
        "diabetes_X, diabetes_y = datasets.load_diabetes(return_X_y=True)\n",
        "\n",
        "# Use only one feature\n",
        "diabetes_X = diabetes_X[:, np.newaxis, 2]\n",
        "\n",
        "# Split the data into training/testing sets\n",
        "diabetes_X_train = diabetes_X[:-20]\n",
        "diabetes_X_test = diabetes_X[-20:]\n",
        "\n",
        "# Split the targets into training/testing sets\n",
        "diabetes_y_train = diabetes_y[:-20]\n",
        "diabetes_y_test = diabetes_y[-20:]\n",
        "\n",
        "# Create linear regression object\n",
        "regr = linear_model.LinearRegression()\n",
        "\n",
        "# Train the model using the training sets\n",
        "regr.fit(diabetes_X_train, diabetes_y_train)\n",
        "\n",
        "# Make predictions using the testing set\n",
        "diabetes_y_pred = regr.predict(diabetes_X_test)\n",
        "\n",
        "# The coefficients\n",
        "print('Coefficients: \\n', regr.coef_)\n",
        "# The mean squared error\n",
        "print('Mean squared error: %.2f'\n",
        "      % mean_squared_error(diabetes_y_test, diabetes_y_pred))\n",
        "# The coefficient of determination: 1 is perfect prediction\n",
        "print('Coefficient of determination: %.2f'\n",
        "      % r2_score(diabetes_y_test, diabetes_y_pred))\n",
        "\n",
        "# Plot outputs\n",
        "plt.scatter(diabetes_X_test, diabetes_y_test,  color='black')\n",
        "plt.plot(diabetes_X_test, diabetes_y_pred, color='blue', linewidth=3)\n",
        "\n",
        "plt.xticks(())\n",
        "plt.yticks(())\n",
        "\n",
        "plt.show()"
      ],
      "execution_count": 1,
      "outputs": [
        {
          "output_type": "stream",
          "name": "stdout",
          "text": [
            "Automatically created module for IPython interactive environment\n",
            "Coefficients: \n",
            " [938.23786125]\n",
            "Mean squared error: 2548.07\n",
            "Coefficient of determination: 0.47\n"
          ]
        },
        {
          "output_type": "display_data",
          "data": {
            "text/plain": [
              "<Figure size 640x480 with 1 Axes>"
            ],
            "image/png": "[encoded data removed]"
          },
          "metadata": {}
        }
      ]
    },
    {
      "cell_type": "markdown",
      "metadata": {
        "id": "Sjt3O1pPr_6H"
      },
      "source": [
        "# Feladatok\n",
        "\n",
        "1.\tIllesszünk lineáris regresszió függvényt `sklearn.linear_model.LinearRegression` segítségével, a következő adatokra: \n",
        "```python\n",
        "rng = np.random.RandomState(42) \n",
        "x = 10 * rng.rand(100) \n",
        "y = 2 * x - 5 + rng.randn(100) \n",
        "plt.scatter(x, y);\n",
        "```\n",
        "\n",
        "2.\tÍrassuk ki a regressziós egyenes hibáját (R négyzet érték) és a regressziós vonal lejtő-elfogását (*intercept*) és meredekségét (*slope*). \n",
        "\n",
        "3.\tA `house_sales.csv` állomány házeladási tranzakciókat tartalmaz, feltüntetve a ház paramétereit (szobák, emeletek száma, terület, állapot, kilátás stb.) és az eladási árat. Vizualizáljuk a paraméterek eloszlását majd építsünk egy lineáris regresszió modellt, mely különböző paraméterekre, megbecsüli egy háznak az árát. Vizsgáljuk meg a modell pontosságát. \n",
        "\n",
        "4.\tTeszteljük vizuálisan (ha valamilyen mintázat látszik a ploton, akkor valamilyen nemlineáris hatás is jelen van) a linearitást  a reziduálisok és regressziós paraméterek pontdiagramon való ábrázolásával. (A reziduális annak mértéke, hogy egy pont milyen távolságra van függőlegesen a regressziós egyenestől. Egyszerűen az előre jelzett érték és a megfigyelt tényleges érték közötti eltérést/hibát jelenti.)\n",
        "\n",
        "5.\tÁbrázoljuk a reziduálisok eloszlását hisztogram és [Q–Q plot](https://towardsdatascience.com/q-q-plots-explained-5aa8495426c0) segítségével."
      ]
    },
    {
      "cell_type": "code",
      "source": [
        "#1\n",
        "import numpy as np\n",
        "from sklearn.linear_model import LinearRegression\n",
        "import matplotlib.pyplot as plt\n",
        "\n",
        "\n",
        "rng = np.random.RandomState(42)\n",
        "x = 10 * rng.rand(100)\n",
        "y = 2 * x - 5 + rng.randn(100)\n",
        "\n",
        "\n",
        "model = LinearRegression()\n",
        "model.fit(x[:, np.newaxis], y)\n",
        "\n",
        "\n",
        "x_fit = np.linspace(0, 10, 100)\n",
        "y_fit = model.predict(x_fit[:, np.newaxis])\n",
        "\n",
        "\n",
        "plt.scatter(x, y)\n",
        "plt.plot(x_fit, y_fit, color='red')\n",
        "plt.xlabel('x')\n",
        "plt.ylabel('y')\n",
        "plt.show()"
      ],
      "metadata": {
        "id": "6i2e68YPTrHZ",
        "outputId": "c1d188e7-3cc5-42f2-f6bd-496a32f086a8",
        "colab": {
          "base_uri": "https://localhost:8080/",
          "height": 449
        }
      },
      "execution_count": 2,
      "outputs": [
        {
          "output_type": "display_data",
          "data": {
            "text/plain": [
              "<Figure size 640x480 with 1 Axes>"
            ],
            "image/png": "[encoded data removed]"
          },
          "metadata": {}
        }
      ]
    },
    {
      "cell_type": "code",
      "source": [
        "#2\n",
        "from sklearn.metrics import r2_score\n",
        "\n",
        "\n",
        "y_pred = model.predict(x[:, np.newaxis])\n",
        "r_squared = r2_score(y, y_pred)\n",
        "\n",
        "\n",
        "slope = model.coef_[0]\n",
        "intercept = model.intercept_\n",
        "\n",
        "\n",
        "print(\"R sqare:\", r_squared)\n",
        "print(\"intercept:\", intercept)\n",
        "print(\"slope:\", slope)"
      ],
      "metadata": {
        "id": "1js58UD9Tza-",
        "outputId": "8650302d-00b2-4197-b7b0-7db917371382",
        "colab": {
          "base_uri": "https://localhost:8080/"
        }
      },
      "execution_count": 3,
      "outputs": [
        {
          "output_type": "stream",
          "name": "stdout",
          "text": [
            "R sqare: 0.9764567983510799\n",
            "intercept: -4.78490384245325\n",
            "slope: 1.9540226772876963\n"
          ]
        }
      ]
    }
  ]
}